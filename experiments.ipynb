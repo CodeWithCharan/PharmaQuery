{
 "cells": [
  {
   "cell_type": "markdown",
   "metadata": {},
   "source": [
    "# **RAG Pipeline**\n",
    "\n",
    "<image src=\"Images\\langchain_rag.jpg\">\n",
    "\n",
    "**credits:** [ThatAIGuy GitHub Repository](https://github.com/bansalkanav/Generative-AI-Scratch-2-Advance-By-ThatAIGuy)"
   ]
  },
  {
   "cell_type": "markdown",
   "metadata": {},
   "source": [
    "## **Building An Insight Retrieval System for Pharmaceutical Sciences**\n",
    "\n",
    "### **Steps**\n",
    "- Step 1: Initialize an Embedding Model\n",
    "- Step 2: Setting a Connection with the ChromaDB\n",
    "- Step 3: Load necessary documents\n",
    "- Step 4: Split the documents into chunks\n",
    "- Step 5: Add Chunks to ChromaDB\n",
    "- Step 6: Create a Retriever Object and apply Similarity Search\n",
    "- Step 7: Initialize a Chat Prompt Template\n",
    "- Step 8: Initialize a Generator (i.e. Chat Model)\n",
    "- Step 9: Initialize a Output Parser\n",
    "- Step 10: Define a RAG Chain\n",
    "- Step 11: Invoke the Chain"
   ]
  },
  {
   "cell_type": "markdown",
   "metadata": {},
   "source": [
    "### **Step 1: Initialize an Embedding Model**"
   ]
  },
  {
   "cell_type": "code",
   "execution_count": 1,
   "metadata": {},
   "outputs": [],
   "source": [
    "from langchain_google_genai import GoogleGenerativeAIEmbeddings\n",
    "\n",
    "embedding_model = GoogleGenerativeAIEmbeddings(model=\"models/embedding-001\")"
   ]
  },
  {
   "cell_type": "markdown",
   "metadata": {},
   "source": [
    "## **Step 2: Initialize the Chroma DB Connection**"
   ]
  },
  {
   "cell_type": "code",
   "execution_count": 2,
   "metadata": {},
   "outputs": [],
   "source": [
    "from langchain_chroma import Chroma\n",
    "\n",
    "db = Chroma(collection_name=\"pharma_database\",\n",
    "            embedding_function=embedding_model,\n",
    "            persist_directory='./pharma_db')"
   ]
  },
  {
   "cell_type": "code",
   "execution_count": 3,
   "metadata": {},
   "outputs": [
    {
     "data": {
      "text/plain": [
       "{'ids': [],\n",
       " 'embeddings': None,\n",
       " 'metadatas': [],\n",
       " 'documents': [],\n",
       " 'uris': None,\n",
       " 'data': None}"
      ]
     },
     "execution_count": 3,
     "metadata": {},
     "output_type": "execute_result"
    }
   ],
   "source": [
    "db.get()"
   ]
  },
  {
   "cell_type": "markdown",
   "metadata": {},
   "source": [
    "### **Start 3: Load necessary documents**"
   ]
  },
  {
   "cell_type": "code",
   "execution_count": 4,
   "metadata": {},
   "outputs": [
    {
     "name": "stderr",
     "output_type": "stream",
     "text": [
      "100%|██████████| 5/5 [00:02<00:00,  1.81it/s]\n"
     ]
    }
   ],
   "source": [
    "from langchain_community.document_loaders import DirectoryLoader\n",
    "from langchain_community.document_loaders import PyPDFLoader\n",
    "\n",
    "loader = DirectoryLoader(\n",
    "    path=\"research-papers\", glob=\"*.pdf\", show_progress=True, loader_cls=PyPDFLoader\n",
    ")\n",
    "\n",
    "data = loader.load()"
   ]
  },
  {
   "cell_type": "code",
   "execution_count": 6,
   "metadata": {},
   "outputs": [
    {
     "name": "stdout",
     "output_type": "stream",
     "text": [
      "Type of Data Variable:  <class 'list'>\n",
      "\n",
      "Number of Documents:  39\n",
      "\n",
      "Type of each datapoints: <class 'langchain_core.documents.base.Document'>\n",
      "\n",
      "Metadata:  {'source': 'research-papers\\\\2060-AI-in-Life-Sciences.pdf', 'page': 0}\n",
      "\n",
      "Page Content:\n",
      "Executive Insights\n",
      "Artificial Intelligence in Life Sciences: The Formula for Pharma Success Across the Drug Lifecycle was written by  \n",
      "Clay Heskett, Partner, Ben Faircloth, Partner, and Stephen Roper,\n"
     ]
    }
   ],
   "source": [
    "print(\"Type of Data Variable: \", type(data))\n",
    "print()\n",
    "print(\"Number of Documents: \", len(data))\n",
    "print()\n",
    "print(\"Type of each datapoints:\", type(data[0]))\n",
    "print()\n",
    "print(\"Metadata: \", data[0].metadata)\n",
    "print()\n",
    "print(\"Page Content:\")\n",
    "print(data[0].page_content[:200])"
   ]
  },
  {
   "cell_type": "code",
   "execution_count": 8,
   "metadata": {},
   "outputs": [
    {
     "data": {
      "text/plain": [
       "{'source': 'research-papers\\\\Artificial-Intelligence-in-Pharma-and-Biotech.pdf',\n",
       " 'page': 10}"
      ]
     },
     "execution_count": 8,
     "metadata": {},
     "output_type": "execute_result"
    }
   ],
   "source": [
    "data[38].metadata"
   ]
  },
  {
   "cell_type": "markdown",
   "metadata": {},
   "source": [
    "### **Step 4: Split the document into chunks**"
   ]
  },
  {
   "cell_type": "code",
   "execution_count": 9,
   "metadata": {},
   "outputs": [],
   "source": [
    "doc_metadata = [data[i].metadata for i in range(len(data))]\n",
    "doc_content = [data[i].page_content for i in range(len(data))]"
   ]
  },
  {
   "cell_type": "code",
   "execution_count": 18,
   "metadata": {},
   "outputs": [
    {
     "data": {
      "text/plain": [
       "({'source': 'research-papers\\\\2060-AI-in-Life-Sciences.pdf', 'page': 0},\n",
       " 'Executive Insights\\nArtificial Intelligence in Life Sciences: The Formula for Pharma Success Across t')"
      ]
     },
     "execution_count": 18,
     "metadata": {},
     "output_type": "execute_result"
    }
   ],
   "source": [
    "doc_metadata[0], doc_content[0][:100]"
   ]
  },
  {
   "cell_type": "code",
   "execution_count": 19,
   "metadata": {},
   "outputs": [],
   "source": [
    "from langchain_text_splitters.sentence_transformers import SentenceTransformersTokenTextSplitter\n",
    "\n",
    "st_text_splitter = SentenceTransformersTokenTextSplitter(model_name=\"sentence-transformers/all-mpnet-base-v2\", \n",
    "                                                         chunk_size=100, \n",
    "                                                         chunk_overlap=50)\n",
    "\n",
    "st_chunks = st_text_splitter.create_documents(doc_content, doc_metadata)"
   ]
  },
  {
   "cell_type": "code",
   "execution_count": 29,
   "metadata": {},
   "outputs": [
    {
     "name": "stdout",
     "output_type": "stream",
     "text": [
      "Total number of documents inside chunks: 95\n",
      "\n",
      "Document 1 metadata: {'source': 'research-papers\\\\2060-AI-in-Life-Sciences.pdf', 'page': 0}\n",
      "Document 1 chunks: executive insights artificial intelligence in life sciences : the formula for pharma success across \n",
      "----------------------------------------------------------------------------------------------------\n",
      "Document 2 metadata: {'source': 'research-papers\\\\2060-AI-in-Life-Sciences.pdf', 'page': 0}\n",
      "Document 2 chunks: autonomy and iteratively optimize their processes. within life sciences, we apply the term “ ai ” to\n",
      "----------------------------------------------------------------------------------------------------\n",
      "Document 3 metadata: {'source': 'research-papers\\\\2060-AI-in-Life-Sciences.pdf', 'page': 1}\n",
      "Document 3 chunks: executive insights page 2 l. e. k. consulting / ex ecutive insights, volume xx, issue 60ai ’ s abili\n",
      "----------------------------------------------------------------------------------------------------\n",
      "Document 4 metadata: {'source': 'research-papers\\\\2060-AI-in-Life-Sciences.pdf', 'page': 1}\n",
      "Document 4 chunks: be applied in drug discovery. patients ’ data is used by companies including antidote and bullfrog a\n",
      "----------------------------------------------------------------------------------------------------\n",
      "Document 5 metadata: {'source': 'research-papers\\\\2060-AI-in-Life-Sciences.pdf', 'page': 2}\n",
      "Document 5 chunks: executive insights page 3 l. e. k. consulting / ex ecutive insights, volume xx, issue 60figure 2 ai \n"
     ]
    }
   ],
   "source": [
    "print(\"Total number of documents inside chunks:\", len(st_chunks))\n",
    "print()\n",
    "for i, chunk in enumerate(st_chunks, start=1):\n",
    "    print(f\"Document {i} metadata: {chunk.metadata}\")\n",
    "    print(f\"Document {i} chunks: {chunk.page_content[:100]}\")\n",
    "    if i == 5: break\n",
    "    print(\"-\" * 100)"
   ]
  },
  {
   "cell_type": "markdown",
   "metadata": {},
   "source": [
    "### **Step 5: Add Chunks to ChromaDB**"
   ]
  },
  {
   "cell_type": "code",
   "execution_count": 30,
   "metadata": {},
   "outputs": [
    {
     "data": {
      "text/plain": [
       "['3ff85bd2-094a-4e76-a6d3-2509a951aafc',\n",
       " '97268648-87a0-41b8-8ca9-333ab3b8e7dd',\n",
       " '43cc2aff-d3f4-4771-89a2-4b97bdf5d65c',\n",
       " 'a2db085e-8803-4118-a44f-d6caa05524d9',\n",
       " 'd747c9b7-885f-4125-805a-985ace9c1d50',\n",
       " '7f8a6aa7-dd8f-46ad-9dc7-c3f28455391a',\n",
       " 'd01ca10d-12ed-47a3-bb3f-7d231b62a1e6',\n",
       " '5503ab5e-29fd-40aa-976b-85f04f0aee3f',\n",
       " '35585c3d-14af-4053-b7a8-04e601572948',\n",
       " '3c325288-4804-475c-b44d-8ad5d05919c8',\n",
       " 'd65df7f8-774a-4c35-99be-14d7b2a75b91',\n",
       " '73dde220-2f4d-4002-b1fb-2205ea2b6812',\n",
       " 'dd669d2a-24e6-432b-847a-3927d799f6a4',\n",
       " '5c21cff9-148c-404d-bff0-b371140b6e27',\n",
       " '50fd0bdc-7cce-4328-9378-880e59c3005d',\n",
       " '0af11247-4d2e-4cf8-af43-ea5ae61a1073',\n",
       " '1a214041-7d36-49b6-bb65-7938cf1eb1ad',\n",
       " '4127fb2b-736f-4a1a-9786-c208be0c443e',\n",
       " '422a5fe4-959b-4fd1-877d-f6a5630b95f0',\n",
       " '32412ab0-8335-46e7-9e20-c1be6caa214c',\n",
       " '8da8e847-a2e6-45e3-960b-208d082efcd5',\n",
       " '8dbb4feb-9727-4296-bbe1-af38bc702cea',\n",
       " 'bcbf086c-21e7-48ff-94c3-28b452d0e488',\n",
       " '4da567bf-008d-457f-a7be-58045e3a23cb',\n",
       " '23ce66fd-7a75-4efd-8370-eb3391db5a67',\n",
       " 'de7ad8ff-82e6-4491-867a-48671bac9405',\n",
       " 'd16ae5cd-986d-4f92-b691-193dff3bc1e3',\n",
       " '4f7ad8be-4ca5-4e0a-806d-9350bd019253',\n",
       " 'e027bd51-f09c-433e-abb6-501ea15598a0',\n",
       " '707bd6c7-6c61-44f4-8f37-c59b2ee2ee5b',\n",
       " 'f6e3b4bd-cda6-4a3a-881d-a7af3b7f7a00',\n",
       " '2465b5a3-7782-4ae0-8f24-af0e50069916',\n",
       " '0bc51dff-2623-4296-a828-5f91dce9a0e3',\n",
       " '4c3db441-2809-44f3-ba34-fb80bcbcaa93',\n",
       " '7a7ff24c-ac4d-4ac2-a7d8-1ccac61d8821',\n",
       " '745facab-dbd7-46f6-a1e0-99bb327e0bd9',\n",
       " '3e4f62ce-a4dd-4874-910e-a505d42e77bd',\n",
       " '4c989cd9-d83a-4c64-b584-b80cba184b93',\n",
       " '0af2a349-11f3-410f-a042-1bdc00ce0dc0',\n",
       " 'b249bce4-9e4e-43dc-a679-cd569964d5ab',\n",
       " '32a9202b-c744-40ed-a2ac-d7e52a9df099',\n",
       " 'ec072b6b-6bbd-4355-9a4c-87b73a0a8f32',\n",
       " '41b58dc8-c738-494b-9682-015ee17b3fc3',\n",
       " '00f89ac0-c877-4f94-a9fb-41f88fb61257',\n",
       " '9d1f42bc-6c0a-4efc-946f-f946a72d3e79',\n",
       " '095702c7-63ae-4562-89d0-d0873cc3201c',\n",
       " '22028985-8249-4d71-8de1-8bbe8169c09f',\n",
       " '90dd8b0a-39d9-416a-9d9e-f00cd0481697',\n",
       " '47d33987-cf89-4c9b-b84d-c89e9eb14b1d',\n",
       " '960826f4-0506-4446-a784-939b7f04768f',\n",
       " 'ad3ca406-3235-4a34-9bac-7e1c282ce566',\n",
       " 'c99c009b-ebce-41e0-b25d-289f147d96d4',\n",
       " '340f8800-f7c2-408e-abdd-07bd0b5abea2',\n",
       " '655a1012-0d1f-4c86-a00a-a04ec040a796',\n",
       " '9f7e5aa0-5cfd-4f2b-9ac7-f956f20a069c',\n",
       " 'c60d49fa-c399-4993-94a8-f40c9ab85a69',\n",
       " '7754361f-7a3d-4de4-a7a2-cef088f33fa4',\n",
       " '5a380f19-fcb3-4eb7-9b44-d4fd23c1e585',\n",
       " 'd5d4ffe0-cee7-4d49-977e-23d67add482b',\n",
       " '742c8a78-ce74-43a4-ab9b-a4c46474e01b',\n",
       " '3d0a997f-3f0f-42ce-8b3b-d015acd7cbba',\n",
       " 'f5834d00-68d9-4b97-b7e5-f1e23d5ec2de',\n",
       " 'e5a31d9c-2b1a-45b0-88be-f1b24e7ad064',\n",
       " '6523aa84-476d-4a55-ba5f-9a0888b1ba6d',\n",
       " '576be81a-8ad7-4dde-b92b-6be435440fc9',\n",
       " '3efe8dcd-cea8-4b7c-bdc7-79821874f0c2',\n",
       " '8badb5e1-282f-4ab5-a153-a9198eade36e',\n",
       " 'cd3398e9-c5b8-459a-8b96-60b0855d71c3',\n",
       " '40ed2d3a-5369-4b15-b3fe-3647d862b47e',\n",
       " 'd8a562a3-fd94-4525-a7ea-38ea4db5ddd1',\n",
       " '4eb030c7-4097-44bc-b3f5-b6f3f247aedf',\n",
       " 'b46a29f8-95a6-4d93-a685-c69ba68417d6',\n",
       " 'dd34d18d-ff47-4851-b524-bcff6e7fb97c',\n",
       " 'e28c5f33-bdb0-46fb-a1a9-e5ca80318ef6',\n",
       " '85c3b5ce-bd0c-4dd1-bbba-9a1cff372baa',\n",
       " '0b483f98-7277-4ce5-84a8-4fcec0c0212f',\n",
       " '1244cd66-e482-4f6a-889a-c39ff91dc6bf',\n",
       " 'cd5ef318-1180-4b6d-862c-4735748ba7c4',\n",
       " '555d2653-8009-4988-b63f-0b2aa93087ab',\n",
       " '3db48680-7648-4039-bf91-a31805d4a33e',\n",
       " '20198653-0ec3-47da-91a0-d13eeceef391',\n",
       " 'ac4377eb-e68d-4d9a-b039-f260d36ee99b',\n",
       " 'b92c2dbc-aabe-4f61-9bfa-7d53321d5f2b',\n",
       " 'c4fb5e7b-fe4b-4432-bdce-45981d1225c6',\n",
       " 'e0d5a982-e331-4641-af07-93a4c22c8916',\n",
       " '0535af03-b8d6-4b0c-9271-2958475dede7',\n",
       " 'c449c53c-679c-49b3-8109-0b1d32233527',\n",
       " '178ed25a-384e-482e-a281-33b7965ca34d',\n",
       " 'b0237910-dc44-49cb-b0ae-a9a30073e56e',\n",
       " 'fcb05b5b-9c22-4ded-9702-f3b9b334c52c',\n",
       " '142df78a-9493-44e6-a946-26871b24ce3b',\n",
       " 'e5101518-78e6-4775-acc5-e70f3ef0bdcc',\n",
       " '99431e48-9801-4522-8a2e-7d702a2603c6',\n",
       " '79c848c1-8d8f-4abf-9d6b-97c0b3abdbc9',\n",
       " '56f4b893-1014-402b-895c-019fcfd9103f']"
      ]
     },
     "execution_count": 30,
     "metadata": {},
     "output_type": "execute_result"
    }
   ],
   "source": [
    "db.add_documents(st_chunks)"
   ]
  },
  {
   "cell_type": "code",
   "execution_count": 45,
   "metadata": {},
   "outputs": [
    {
     "data": {
      "text/plain": [
       "'who should take this course? this program is designed for business leaders in pharmaceutical science'"
      ]
     },
     "execution_count": 45,
     "metadata": {},
     "output_type": "execute_result"
    }
   ],
   "source": [
    "db.get()['documents'][1][:100]"
   ]
  },
  {
   "cell_type": "code",
   "execution_count": 38,
   "metadata": {},
   "outputs": [
    {
     "data": {
      "text/plain": [
       "[{'page': 0, 'source': 'research-papers\\\\AI-In-Pharmaceutical-Industries.pdf'},\n",
       " {'page': 2,\n",
       "  'source': 'research-papers\\\\Artificial-Intelligence-in-Pharma-and-Biotech.pdf'},\n",
       " {'page': 1, 'source': 'research-papers\\\\AI-In-Pharmaceutical-Industries.pdf'},\n",
       " {'page': 1, 'source': 'research-papers\\\\4839-AI-In-Pharmacy-Article.pdf'},\n",
       " {'page': 7, 'source': 'research-papers\\\\4839-AI-In-Pharmacy-Article.pdf'}]"
      ]
     },
     "execution_count": 38,
     "metadata": {},
     "output_type": "execute_result"
    }
   ],
   "source": [
    "db.get()['metadatas'][:5]"
   ]
  },
  {
   "cell_type": "markdown",
   "metadata": {},
   "source": [
    "> ---> Pharmaceutical Sciences Database is ready! <---"
   ]
  },
  {
   "cell_type": "markdown",
   "metadata": {},
   "source": [
    "### **Step 6: Create a Retriever Object and apply Similarity Search**"
   ]
  },
  {
   "cell_type": "code",
   "execution_count": 46,
   "metadata": {},
   "outputs": [],
   "source": [
    "retriever = db.as_retriever(search_type=\"similarity\", search_kwargs={'k': 5})"
   ]
  },
  {
   "cell_type": "markdown",
   "metadata": {},
   "source": [
    "### **Step 7: Initialize a Chat Prompt Template**"
   ]
  },
  {
   "cell_type": "code",
   "execution_count": 47,
   "metadata": {},
   "outputs": [],
   "source": [
    "from langchain_core.prompts import ChatPromptTemplate\n",
    "\n",
    "PROMPT_TEMPLATE = \"\"\"\n",
    "You are a highly knowledgeable assistant specializing in pharmaceutical sciences. \n",
    "Answer the question based only on the following context:\n",
    "{context}\n",
    "\n",
    "Answer the question based on the above context:\n",
    "{question}\n",
    "\n",
    "Use the provided context to answer the user's question accurately and concisely.\n",
    "Don't justify your answers.\n",
    "Don't give information not mentioned in the CONTEXT INFORMATION.\n",
    "Do not say \"according to the context\" or \"mentioned in the context\" or similar.\n",
    "\"\"\"\n",
    "\n",
    "prompt_template = ChatPromptTemplate.from_template(PROMPT_TEMPLATE)"
   ]
  },
  {
   "cell_type": "markdown",
   "metadata": {},
   "source": [
    "### **Step 8: Initialize a Generator (i.e. Chat Model)**"
   ]
  },
  {
   "cell_type": "code",
   "execution_count": 49,
   "metadata": {},
   "outputs": [
    {
     "data": {
      "text/plain": [
       "True"
      ]
     },
     "execution_count": 49,
     "metadata": {},
     "output_type": "execute_result"
    }
   ],
   "source": [
    "from dotenv import load_dotenv\n",
    "load_dotenv()"
   ]
  },
  {
   "cell_type": "code",
   "execution_count": 50,
   "metadata": {},
   "outputs": [],
   "source": [
    "from langchain_google_genai import ChatGoogleGenerativeAI\n",
    "\n",
    "chat_model = ChatGoogleGenerativeAI(\n",
    "    model=\"gemini-1.5-pro\",\n",
    "    temperature=1\n",
    ")"
   ]
  },
  {
   "cell_type": "markdown",
   "metadata": {},
   "source": [
    "### **Step 9: Initialize a Output Parser**"
   ]
  },
  {
   "cell_type": "code",
   "execution_count": 52,
   "metadata": {},
   "outputs": [],
   "source": [
    "from langchain_core.output_parsers import StrOutputParser\n",
    "\n",
    "output_parser = StrOutputParser()"
   ]
  },
  {
   "cell_type": "markdown",
   "metadata": {},
   "source": [
    "### **Step 10: Define a RAG Chain**"
   ]
  },
  {
   "cell_type": "code",
   "execution_count": 53,
   "metadata": {},
   "outputs": [],
   "source": [
    "from langchain_core.runnables import RunnablePassthrough\n",
    "\n",
    "def format_docs(docs):\n",
    "    return \"\\n\\n\".join(doc.page_content for doc in docs)\n",
    "\n",
    "rag_chain = {\"context\": retriever | format_docs, \"question\": RunnablePassthrough()} | prompt_template | chat_model | output_parser"
   ]
  },
  {
   "cell_type": "markdown",
   "metadata": {},
   "source": [
    "### **Step 11: Invoke the Chain**"
   ]
  },
  {
   "cell_type": "code",
   "execution_count": 55,
   "metadata": {},
   "outputs": [
    {
     "data": {
      "text/plain": [
       "'The pharmaceutical industry uses AI in many areas including drug discovery and development, drug repurposing, accelerating pharmaceutical manufacturing, and clinical studies.  Top pharmaceutical companies are using AI in manufacturing for research and development.\\n'"
      ]
     },
     "execution_count": 55,
     "metadata": {},
     "output_type": "execute_result"
    }
   ],
   "source": [
    "query = \"What is Pharmaceutical industry?\"\n",
    "\n",
    "rag_chain.invoke(query)"
   ]
  },
  {
   "cell_type": "markdown",
   "metadata": {},
   "source": [
    "#### **Markdown code (Optional)**"
   ]
  },
  {
   "cell_type": "code",
   "execution_count": 56,
   "metadata": {},
   "outputs": [],
   "source": [
    "from IPython.display import display\n",
    "from IPython.display import Markdown\n",
    "import textwrap\n",
    "\n",
    "def to_markdown(text):\n",
    "  text = text.replace('•', '  *')\n",
    "  return Markdown(textwrap.indent(text, '> ', predicate=lambda _: True))"
   ]
  },
  {
   "cell_type": "code",
   "execution_count": 57,
   "metadata": {},
   "outputs": [
    {
     "data": {
      "text/markdown": [
       "> AI is used in:\n",
       "> \n",
       "> * **Target discovery and drug discovery:**  Companies like BenevolentAI, Atomwise, and XtalPi use AI for this purpose.\n",
       "> * **Optimizing clinical processes:**  Companies like Antidote and Bullfrog AI use patient data for recruitment and monitoring.\n",
       "> * **Post-development activities:** This includes patient monitoring (CardioDiagnostics), compliance monitoring (AiCure), and marketing optimization (Eularis).\n",
       "> * **Patient support:** Novo Nordisk's chatbot Sofia answers patient questions.  \n",
       "> * **Drug manufacturing:** AI optimizes processes, controls quality, manages supply chains, and performs predictive maintenance.\n"
      ],
      "text/plain": [
       "<IPython.core.display.Markdown object>"
      ]
     },
     "execution_count": 57,
     "metadata": {},
     "output_type": "execute_result"
    }
   ],
   "source": [
    "query = \"What are the different AI applications used in pharmaceutical industry?\"\n",
    "\n",
    "response = rag_chain.invoke(query)\n",
    "\n",
    "to_markdown(response)"
   ]
  },
  {
   "cell_type": "code",
   "execution_count": null,
   "metadata": {},
   "outputs": [],
   "source": []
  }
 ],
 "metadata": {
  "kernelspec": {
   "display_name": "geminienv",
   "language": "python",
   "name": "python3"
  },
  "language_info": {
   "codemirror_mode": {
    "name": "ipython",
    "version": 3
   },
   "file_extension": ".py",
   "mimetype": "text/x-python",
   "name": "python",
   "nbconvert_exporter": "python",
   "pygments_lexer": "ipython3",
   "version": "3.10.14"
  }
 },
 "nbformat": 4,
 "nbformat_minor": 2
}
